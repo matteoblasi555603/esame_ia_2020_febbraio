{
 "cells": [
  {
   "cell_type": "markdown",
   "metadata": {},
   "source": [
    "# Notebook di training"
   ]
  },
  {
   "cell_type": "code",
   "execution_count": 1,
   "metadata": {},
   "outputs": [
    {
     "name": "stdout",
     "output_type": "stream",
     "text": [
      "Requirement already satisfied: pandas in c:\\users\\tesys\\anaconda3\\lib\\site-packages (from -r requirements.txt (line 1)) (1.0.5)\n",
      "Requirement already satisfied: numpy in c:\\users\\tesys\\anaconda3\\lib\\site-packages (from -r requirements.txt (line 2)) (1.18.5)\n",
      "Requirement already satisfied: scikit-learn in c:\\users\\tesys\\anaconda3\\lib\\site-packages (from -r requirements.txt (line 3)) (0.23.1)\n",
      "Requirement already satisfied: matplotlib in c:\\users\\tesys\\anaconda3\\lib\\site-packages (from -r requirements.txt (line 4)) (3.2.2)\n",
      "Requirement already satisfied: python-dateutil>=2.6.1 in c:\\users\\tesys\\anaconda3\\lib\\site-packages (from pandas->-r requirements.txt (line 1)) (2.8.1)\n",
      "Requirement already satisfied: pytz>=2017.2 in c:\\users\\tesys\\anaconda3\\lib\\site-packages (from pandas->-r requirements.txt (line 1)) (2020.1)\n",
      "Requirement already satisfied: threadpoolctl>=2.0.0 in c:\\users\\tesys\\anaconda3\\lib\\site-packages (from scikit-learn->-r requirements.txt (line 3)) (2.1.0)\n",
      "Requirement already satisfied: joblib>=0.11 in c:\\users\\tesys\\anaconda3\\lib\\site-packages (from scikit-learn->-r requirements.txt (line 3)) (0.16.0)\n",
      "Requirement already satisfied: scipy>=0.19.1 in c:\\users\\tesys\\anaconda3\\lib\\site-packages (from scikit-learn->-r requirements.txt (line 3)) (1.5.0)\n",
      "Requirement already satisfied: cycler>=0.10 in c:\\users\\tesys\\anaconda3\\lib\\site-packages (from matplotlib->-r requirements.txt (line 4)) (0.10.0)\n",
      "Requirement already satisfied: kiwisolver>=1.0.1 in c:\\users\\tesys\\anaconda3\\lib\\site-packages (from matplotlib->-r requirements.txt (line 4)) (1.2.0)\n",
      "Requirement already satisfied: pyparsing!=2.0.4,!=2.1.2,!=2.1.6,>=2.0.1 in c:\\users\\tesys\\anaconda3\\lib\\site-packages (from matplotlib->-r requirements.txt (line 4)) (2.4.7)\n",
      "Requirement already satisfied: six>=1.5 in c:\\users\\tesys\\anaconda3\\lib\\site-packages (from python-dateutil>=2.6.1->pandas->-r requirements.txt (line 1)) (1.15.0)\n"
     ]
    }
   ],
   "source": [
    "!pip install -r requirements.txt"
   ]
  },
  {
   "cell_type": "code",
   "execution_count": 247,
   "metadata": {},
   "outputs": [],
   "source": [
    "import pandas as pd\n",
    "import numpy as np\n",
    "import math\n",
    "from sklearn.preprocessing import Normalizer\n",
    "from sklearn.preprocessing import MinMaxScaler\n",
    "from sklearn.preprocessing import StandardScaler\n",
    "from sklearn.model_selection import cross_val_score\n",
    "from sklearn import tree\n",
    "from sklearn.neighbors import KNeighborsClassifier\n",
    "from sklearn.linear_model import LogisticRegression\n",
    "from sklearn.neural_network import MLPClassifier\n",
    "from sklearn.utils import shuffle\n",
    "from sklearn.preprocessing import OneHotEncoder\n",
    "from sklearn import preprocessing as preproc"
   ]
  },
  {
   "cell_type": "code",
   "execution_count": 248,
   "metadata": {},
   "outputs": [
    {
     "data": {
      "text/html": [
       "<div>\n",
       "<style scoped>\n",
       "    .dataframe tbody tr th:only-of-type {\n",
       "        vertical-align: middle;\n",
       "    }\n",
       "\n",
       "    .dataframe tbody tr th {\n",
       "        vertical-align: top;\n",
       "    }\n",
       "\n",
       "    .dataframe thead th {\n",
       "        text-align: right;\n",
       "    }\n",
       "</style>\n",
       "<table border=\"1\" class=\"dataframe\">\n",
       "  <thead>\n",
       "    <tr style=\"text-align: right;\">\n",
       "      <th></th>\n",
       "      <th>status</th>\n",
       "      <th>gender</th>\n",
       "      <th>ssc_p</th>\n",
       "      <th>ssc_b</th>\n",
       "      <th>hsc_p</th>\n",
       "      <th>hsc_b</th>\n",
       "      <th>hsc_s</th>\n",
       "      <th>degree_p</th>\n",
       "      <th>degree_t</th>\n",
       "      <th>workex</th>\n",
       "      <th>etest_p</th>\n",
       "      <th>specialisation</th>\n",
       "      <th>mba_p</th>\n",
       "      <th>salary</th>\n",
       "    </tr>\n",
       "  </thead>\n",
       "  <tbody>\n",
       "    <tr>\n",
       "      <th>0</th>\n",
       "      <td>Placed</td>\n",
       "      <td>M</td>\n",
       "      <td>76.76</td>\n",
       "      <td>Others</td>\n",
       "      <td>76.5</td>\n",
       "      <td>Others</td>\n",
       "      <td>Commerce</td>\n",
       "      <td>67.5</td>\n",
       "      <td>Comm&amp;Mgmt</td>\n",
       "      <td>Yes</td>\n",
       "      <td>73.35</td>\n",
       "      <td>Mkt&amp;Fin</td>\n",
       "      <td>64.15</td>\n",
       "      <td>350000.0</td>\n",
       "    </tr>\n",
       "    <tr>\n",
       "      <th>1</th>\n",
       "      <td>Placed</td>\n",
       "      <td>M</td>\n",
       "      <td>84.00</td>\n",
       "      <td>Others</td>\n",
       "      <td>90.9</td>\n",
       "      <td>Others</td>\n",
       "      <td>Science</td>\n",
       "      <td>64.5</td>\n",
       "      <td>Sci&amp;Tech</td>\n",
       "      <td>No</td>\n",
       "      <td>86.04</td>\n",
       "      <td>Mkt&amp;Fin</td>\n",
       "      <td>59.42</td>\n",
       "      <td>270000.0</td>\n",
       "    </tr>\n",
       "    <tr>\n",
       "      <th>2</th>\n",
       "      <td>Placed</td>\n",
       "      <td>M</td>\n",
       "      <td>65.20</td>\n",
       "      <td>Central</td>\n",
       "      <td>61.4</td>\n",
       "      <td>Central</td>\n",
       "      <td>Commerce</td>\n",
       "      <td>64.8</td>\n",
       "      <td>Comm&amp;Mgmt</td>\n",
       "      <td>Yes</td>\n",
       "      <td>93.40</td>\n",
       "      <td>Mkt&amp;Fin</td>\n",
       "      <td>57.34</td>\n",
       "      <td>270000.0</td>\n",
       "    </tr>\n",
       "    <tr>\n",
       "      <th>3</th>\n",
       "      <td>Placed</td>\n",
       "      <td>M</td>\n",
       "      <td>70.00</td>\n",
       "      <td>Central</td>\n",
       "      <td>74.0</td>\n",
       "      <td>Central</td>\n",
       "      <td>Commerce</td>\n",
       "      <td>65.0</td>\n",
       "      <td>Comm&amp;Mgmt</td>\n",
       "      <td>No</td>\n",
       "      <td>83.00</td>\n",
       "      <td>Mkt&amp;Fin</td>\n",
       "      <td>62.28</td>\n",
       "      <td>300000.0</td>\n",
       "    </tr>\n",
       "    <tr>\n",
       "      <th>4</th>\n",
       "      <td>Placed</td>\n",
       "      <td>F</td>\n",
       "      <td>61.00</td>\n",
       "      <td>Central</td>\n",
       "      <td>81.0</td>\n",
       "      <td>Central</td>\n",
       "      <td>Commerce</td>\n",
       "      <td>66.4</td>\n",
       "      <td>Comm&amp;Mgmt</td>\n",
       "      <td>No</td>\n",
       "      <td>50.89</td>\n",
       "      <td>Mkt&amp;HR</td>\n",
       "      <td>62.21</td>\n",
       "      <td>278000.0</td>\n",
       "    </tr>\n",
       "    <tr>\n",
       "      <th>...</th>\n",
       "      <td>...</td>\n",
       "      <td>...</td>\n",
       "      <td>...</td>\n",
       "      <td>...</td>\n",
       "      <td>...</td>\n",
       "      <td>...</td>\n",
       "      <td>...</td>\n",
       "      <td>...</td>\n",
       "      <td>...</td>\n",
       "      <td>...</td>\n",
       "      <td>...</td>\n",
       "      <td>...</td>\n",
       "      <td>...</td>\n",
       "      <td>...</td>\n",
       "    </tr>\n",
       "    <tr>\n",
       "      <th>124</th>\n",
       "      <td>Placed</td>\n",
       "      <td>M</td>\n",
       "      <td>81.00</td>\n",
       "      <td>Others</td>\n",
       "      <td>68.0</td>\n",
       "      <td>Others</td>\n",
       "      <td>Science</td>\n",
       "      <td>64.0</td>\n",
       "      <td>Sci&amp;Tech</td>\n",
       "      <td>No</td>\n",
       "      <td>93.00</td>\n",
       "      <td>Mkt&amp;Fin</td>\n",
       "      <td>62.56</td>\n",
       "      <td>411000.0</td>\n",
       "    </tr>\n",
       "    <tr>\n",
       "      <th>125</th>\n",
       "      <td>Placed</td>\n",
       "      <td>M</td>\n",
       "      <td>63.00</td>\n",
       "      <td>Others</td>\n",
       "      <td>67.0</td>\n",
       "      <td>Others</td>\n",
       "      <td>Science</td>\n",
       "      <td>64.0</td>\n",
       "      <td>Sci&amp;Tech</td>\n",
       "      <td>No</td>\n",
       "      <td>75.00</td>\n",
       "      <td>Mkt&amp;Fin</td>\n",
       "      <td>66.46</td>\n",
       "      <td>500000.0</td>\n",
       "    </tr>\n",
       "    <tr>\n",
       "      <th>126</th>\n",
       "      <td>Not Placed</td>\n",
       "      <td>M</td>\n",
       "      <td>61.00</td>\n",
       "      <td>Others</td>\n",
       "      <td>70.0</td>\n",
       "      <td>Others</td>\n",
       "      <td>Commerce</td>\n",
       "      <td>64.0</td>\n",
       "      <td>Comm&amp;Mgmt</td>\n",
       "      <td>No</td>\n",
       "      <td>68.50</td>\n",
       "      <td>Mkt&amp;HR</td>\n",
       "      <td>59.50</td>\n",
       "      <td>0.0</td>\n",
       "    </tr>\n",
       "    <tr>\n",
       "      <th>127</th>\n",
       "      <td>Placed</td>\n",
       "      <td>M</td>\n",
       "      <td>73.00</td>\n",
       "      <td>Central</td>\n",
       "      <td>78.0</td>\n",
       "      <td>Others</td>\n",
       "      <td>Commerce</td>\n",
       "      <td>65.0</td>\n",
       "      <td>Comm&amp;Mgmt</td>\n",
       "      <td>Yes</td>\n",
       "      <td>95.46</td>\n",
       "      <td>Mkt&amp;Fin</td>\n",
       "      <td>62.16</td>\n",
       "      <td>420000.0</td>\n",
       "    </tr>\n",
       "    <tr>\n",
       "      <th>128</th>\n",
       "      <td>Placed</td>\n",
       "      <td>M</td>\n",
       "      <td>63.00</td>\n",
       "      <td>Others</td>\n",
       "      <td>62.0</td>\n",
       "      <td>Others</td>\n",
       "      <td>Commerce</td>\n",
       "      <td>68.0</td>\n",
       "      <td>Comm&amp;Mgmt</td>\n",
       "      <td>No</td>\n",
       "      <td>64.00</td>\n",
       "      <td>Mkt&amp;Fin</td>\n",
       "      <td>62.46</td>\n",
       "      <td>250000.0</td>\n",
       "    </tr>\n",
       "  </tbody>\n",
       "</table>\n",
       "<p>129 rows × 14 columns</p>\n",
       "</div>"
      ],
      "text/plain": [
       "         status gender  ssc_p    ssc_b  hsc_p    hsc_b     hsc_s  degree_p  \\\n",
       "0        Placed      M  76.76   Others   76.5   Others  Commerce      67.5   \n",
       "1        Placed      M  84.00   Others   90.9   Others   Science      64.5   \n",
       "2        Placed      M  65.20  Central   61.4  Central  Commerce      64.8   \n",
       "3        Placed      M  70.00  Central   74.0  Central  Commerce      65.0   \n",
       "4        Placed      F  61.00  Central   81.0  Central  Commerce      66.4   \n",
       "..          ...    ...    ...      ...    ...      ...       ...       ...   \n",
       "124      Placed      M  81.00   Others   68.0   Others   Science      64.0   \n",
       "125      Placed      M  63.00   Others   67.0   Others   Science      64.0   \n",
       "126  Not Placed      M  61.00   Others   70.0   Others  Commerce      64.0   \n",
       "127      Placed      M  73.00  Central   78.0   Others  Commerce      65.0   \n",
       "128      Placed      M  63.00   Others   62.0   Others  Commerce      68.0   \n",
       "\n",
       "      degree_t workex  etest_p specialisation  mba_p    salary  \n",
       "0    Comm&Mgmt    Yes    73.35        Mkt&Fin  64.15  350000.0  \n",
       "1     Sci&Tech     No    86.04        Mkt&Fin  59.42  270000.0  \n",
       "2    Comm&Mgmt    Yes    93.40        Mkt&Fin  57.34  270000.0  \n",
       "3    Comm&Mgmt     No    83.00        Mkt&Fin  62.28  300000.0  \n",
       "4    Comm&Mgmt     No    50.89         Mkt&HR  62.21  278000.0  \n",
       "..         ...    ...      ...            ...    ...       ...  \n",
       "124   Sci&Tech     No    93.00        Mkt&Fin  62.56  411000.0  \n",
       "125   Sci&Tech     No    75.00        Mkt&Fin  66.46  500000.0  \n",
       "126  Comm&Mgmt     No    68.50         Mkt&HR  59.50       0.0  \n",
       "127  Comm&Mgmt    Yes    95.46        Mkt&Fin  62.16  420000.0  \n",
       "128  Comm&Mgmt     No    64.00        Mkt&Fin  62.46  250000.0  \n",
       "\n",
       "[129 rows x 14 columns]"
      ]
     },
     "execution_count": 248,
     "metadata": {},
     "output_type": "execute_result"
    }
   ],
   "source": [
    "\n",
    "# LEGGO I FILE DI TEST E DI TRAINING E LI METTO IN DUE DATAFRAME\n",
    "piazzamenti_training = pd.read_csv('train.csv')\n",
    "piazzamenti_test = pd.read_csv('test.csv')\n",
    "piazzamenti_training"
   ]
  },
  {
   "cell_type": "code",
   "execution_count": 249,
   "metadata": {},
   "outputs": [],
   "source": [
    "#METTO A 0 IL SALARIO PER STATUS NON PLACED\n",
    "\n",
    "piazzamenti_training.loc[np.isnan(piazzamenti_training['salary']), 'salary'] = 0.0\n",
    "piazzamenti_training = piazzamenti_training.dropna()\n",
    "piazzamenti_training = shuffle(piazzamenti_training)\n",
    "piazzamenti_training = piazzamenti_training.reset_index(drop=True)\n"
   ]
  },
  {
   "cell_type": "code",
   "execution_count": 250,
   "metadata": {},
   "outputs": [],
   "source": [
    "#METTO A 0 IL SALARIO PER STATUS NON PLACED\n",
    "piazzamenti_test.loc[np.isnan(piazzamenti_test['salary']), 'salary'] = 0.0\n",
    "piazzamenti_test = piazzamenti_test.dropna()"
   ]
  },
  {
   "cell_type": "code",
   "execution_count": 251,
   "metadata": {},
   "outputs": [],
   "source": [
    "le = preproc.LabelEncoder()\n",
    "\n",
    "le.fit(['Placed', 'Not Placed'])\n",
    "\n",
    "#CODIFICO PLACED CON 1 E NOT PLACED CON 0, LE SALVO IN 2 VARIABILI PER PASSARLE AL METODO FIT E SCORE\n",
    "\n",
    "output_labels_training = le.transform(piazzamenti_training['status'].values)\n",
    "output_labels_test = le.transform(piazzamenti_test['status'].values)\n",
    "\n",
    "#CANCELLO LE COLONNE CHE NON SONO FEATURES\n",
    "\n",
    "piazzamenti_training = piazzamenti_training.drop(columns='status', axis=1)\n",
    "piazzamenti_test = piazzamenti_test.drop(columns='status', axis = 1)"
   ]
  },
  {
   "cell_type": "code",
   "execution_count": 252,
   "metadata": {},
   "outputs": [],
   "source": [
    "def one_hot_encode(dataset):\n",
    "    return pd.get_dummies(dataset)"
   ]
  },
  {
   "cell_type": "code",
   "execution_count": 253,
   "metadata": {},
   "outputs": [],
   "source": [
    "# ONE HOT ENCODING TRAINING\n",
    "\n",
    "ohe = OneHotEncoder(handle_unknown='ignore')\n",
    "categorical_columns_train = piazzamenti_training.select_dtypes(['category', object]).columns\n",
    "if 'salary' in categorical_columns_train:\n",
    "    categorical_columns_train = categorical_columns_train.drop('salary')\n",
    "dummies_train = pd.DataFrame(ohe.fit_transform(piazzamenti_training[categorical_columns_train]).toarray(), \n",
    "                       index=piazzamenti_training.index, \n",
    "                       dtype=int)\n",
    "piazzamenti_training = pd.concat([piazzamenti_training.drop(categorical_columns_train, axis=1), dummies_train], axis=1)\n"
   ]
  },
  {
   "cell_type": "code",
   "execution_count": 254,
   "metadata": {},
   "outputs": [],
   "source": [
    "# ONE HOT ENCODING TEST\n",
    "dummies_test = pd.DataFrame(ohe.transform(piazzamenti_test[categorical_columns_train]).toarray(), \n",
    "                       index=piazzamenti_test.index, \n",
    "                       dtype=int)\n",
    "piazzamenti_test = pd.concat([piazzamenti_test.drop(categorical_columns_train, axis=1), dummies_test], axis=1)"
   ]
  },
  {
   "cell_type": "code",
   "execution_count": 255,
   "metadata": {},
   "outputs": [],
   "source": [
    "# USO UNO SCALER CHE MI PORTA TUTTI I VALORI VICINI TRA DI LORO NEL RANGE [0,1]\n",
    "\n",
    "scaler = MinMaxScaler()\n",
    "scaler.fit(piazzamenti_training)\n",
    "piazzamenti_training = scaler.transform(piazzamenti_training)\n",
    "\n",
    "scaler.fit(piazzamenti_test)\n",
    "piazzamenti_test = scaler.transform(piazzamenti_test)"
   ]
  },
  {
   "cell_type": "code",
   "execution_count": 256,
   "metadata": {},
   "outputs": [
    {
     "name": "stdout",
     "output_type": "stream",
     "text": [
      "0.43575439273989436\n",
      "0.19536549122150385\n"
     ]
    }
   ],
   "source": [
    "print(np.mean(np.array(piazzamenti_training)))\n",
    "print(np.var(np.array(piazzamenti_training)))"
   ]
  },
  {
   "cell_type": "code",
   "execution_count": 257,
   "metadata": {},
   "outputs": [
    {
     "data": {
      "text/plain": [
       "MLPClassifier(hidden_layer_sizes=(8,), max_iter=100000, random_state=1)"
      ]
     },
     "execution_count": 257,
     "metadata": {},
     "output_type": "execute_result"
    }
   ],
   "source": [
    "#ADDESTRO IL MODELLO UTILIZZANDO L'OTTIMIZZAZIONE ADAM, STEP SIZE 1E-5 E UN MASSIMO DI 100000 ITERAZIONI\n",
    "\n",
    "clf = MLPClassifier(solver='adam', hidden_layer_sizes=(8,), random_state=1, max_iter = 100000)\n",
    "clf.fit(piazzamenti_training, output_labels_training)"
   ]
  },
  {
   "cell_type": "code",
   "execution_count": 258,
   "metadata": {},
   "outputs": [
    {
     "name": "stdout",
     "output_type": "stream",
     "text": [
      "Accuracy on training set: 0.992\n",
      "Accuracy on test set: 1.000\n"
     ]
    }
   ],
   "source": [
    "\n",
    "print(\"Accuracy on training set: {:.3f}\".format(clf.score(piazzamenti_training, output_labels_training)))\n",
    "print(\"Accuracy on test set: {:.3f}\".format(clf.score(piazzamenti_test, output_labels_test)))"
   ]
  },
  {
   "cell_type": "code",
   "execution_count": 259,
   "metadata": {},
   "outputs": [],
   "source": [
    "cv_scores = cross_val_score(clf, piazzamenti_training, output_labels_training, cv=5)"
   ]
  },
  {
   "cell_type": "code",
   "execution_count": 260,
   "metadata": {},
   "outputs": [
    {
     "name": "stdout",
     "output_type": "stream",
     "text": [
      "[0.96153846 0.96153846 0.92307692 0.84615385 0.88      ]\n"
     ]
    }
   ],
   "source": [
    "print(cv_scores)"
   ]
  },
  {
   "cell_type": "code",
   "execution_count": 261,
   "metadata": {},
   "outputs": [],
   "source": [
    "def accuracy(x,y):\n",
    "    return clf.score(x, y)"
   ]
  },
  {
   "cell_type": "code",
   "execution_count": null,
   "metadata": {},
   "outputs": [],
   "source": []
  }
 ],
 "metadata": {
  "kernelspec": {
   "display_name": "Python 3",
   "language": "python",
   "name": "python3"
  },
  "language_info": {
   "codemirror_mode": {
    "name": "ipython",
    "version": 3
   },
   "file_extension": ".py",
   "mimetype": "text/x-python",
   "name": "python",
   "nbconvert_exporter": "python",
   "pygments_lexer": "ipython3",
   "version": "3.8.3"
  }
 },
 "nbformat": 4,
 "nbformat_minor": 4
}
